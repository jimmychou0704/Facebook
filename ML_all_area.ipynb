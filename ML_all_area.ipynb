{
 "cells": [
  {
   "cell_type": "code",
   "execution_count": 1,
   "metadata": {
    "collapsed": true
   },
   "outputs": [],
   "source": [
    "import pandas as pd\n",
    "from pyqtree import Index\n",
    "train = pd.read_csv('./train.csv')"
   ]
  },
  {
   "cell_type": "code",
   "execution_count": 546,
   "metadata": {
    "collapsed": false
   },
   "outputs": [
    {
     "data": {
      "text/plain": [
       "(291180, 6)"
      ]
     },
     "execution_count": 546,
     "metadata": {},
     "output_type": "execute_result"
    }
   ],
   "source": [
    "# sample subset from the data set\n",
    "data = train.sample(frac= 0.01)\n",
    "data.shape"
   ]
  },
  {
   "cell_type": "markdown",
   "metadata": {},
   "source": [
    "One of the difficulty of this data set is that it have lot of labels, let's see how many there are in our sample."
   ]
  },
  {
   "cell_type": "code",
   "execution_count": 547,
   "metadata": {
    "collapsed": false
   },
   "outputs": [
    {
     "name": "stdout",
     "output_type": "stream",
     "text": [
      "Number of labels: 83345\n"
     ]
    }
   ],
   "source": [
    "print 'Number of labels: %d' %len(data.place_id.unique())"
   ]
  },
  {
   "cell_type": "code",
   "execution_count": 548,
   "metadata": {
    "collapsed": false
   },
   "outputs": [
    {
     "data": {
      "text/html": [
       "<div>\n",
       "<style>\n",
       "    .dataframe thead tr:only-child th {\n",
       "        text-align: right;\n",
       "    }\n",
       "\n",
       "    .dataframe thead th {\n",
       "        text-align: left;\n",
       "    }\n",
       "\n",
       "    .dataframe tbody tr th {\n",
       "        vertical-align: top;\n",
       "    }\n",
       "</style>\n",
       "<table border=\"1\" class=\"dataframe\">\n",
       "  <thead>\n",
       "    <tr style=\"text-align: right;\">\n",
       "      <th></th>\n",
       "      <th>row_id</th>\n",
       "      <th>x</th>\n",
       "      <th>y</th>\n",
       "      <th>accuracy</th>\n",
       "      <th>time</th>\n",
       "      <th>place_id</th>\n",
       "      <th>hour</th>\n",
       "      <th>day</th>\n",
       "      <th>month</th>\n",
       "    </tr>\n",
       "  </thead>\n",
       "  <tbody>\n",
       "    <tr>\n",
       "      <th>18909248</th>\n",
       "      <td>18909248</td>\n",
       "      <td>6.7762</td>\n",
       "      <td>3.0102</td>\n",
       "      <td>68</td>\n",
       "      <td>45007</td>\n",
       "      <td>4460929306</td>\n",
       "      <td>6.0</td>\n",
       "      <td>3.0</td>\n",
       "      <td>0.0</td>\n",
       "    </tr>\n",
       "    <tr>\n",
       "      <th>6954761</th>\n",
       "      <td>6954761</td>\n",
       "      <td>4.0223</td>\n",
       "      <td>8.7203</td>\n",
       "      <td>11</td>\n",
       "      <td>303844</td>\n",
       "      <td>5581742228</td>\n",
       "      <td>0.0</td>\n",
       "      <td>1.0</td>\n",
       "      <td>0.0</td>\n",
       "    </tr>\n",
       "    <tr>\n",
       "      <th>256006</th>\n",
       "      <td>256006</td>\n",
       "      <td>0.1626</td>\n",
       "      <td>3.3357</td>\n",
       "      <td>201</td>\n",
       "      <td>281717</td>\n",
       "      <td>2672645835</td>\n",
       "      <td>15.0</td>\n",
       "      <td>7.0</td>\n",
       "      <td>0.0</td>\n",
       "    </tr>\n",
       "    <tr>\n",
       "      <th>4824318</th>\n",
       "      <td>4824318</td>\n",
       "      <td>2.8897</td>\n",
       "      <td>0.2110</td>\n",
       "      <td>41</td>\n",
       "      <td>51231</td>\n",
       "      <td>5899723304</td>\n",
       "      <td>14.0</td>\n",
       "      <td>1.0</td>\n",
       "      <td>0.0</td>\n",
       "    </tr>\n",
       "    <tr>\n",
       "      <th>9734973</th>\n",
       "      <td>9734973</td>\n",
       "      <td>4.8039</td>\n",
       "      <td>4.0706</td>\n",
       "      <td>6</td>\n",
       "      <td>185085</td>\n",
       "      <td>1446642439</td>\n",
       "      <td>13.0</td>\n",
       "      <td>3.0</td>\n",
       "      <td>0.0</td>\n",
       "    </tr>\n",
       "  </tbody>\n",
       "</table>\n",
       "</div>"
      ],
      "text/plain": [
       "            row_id       x       y  accuracy    time    place_id  hour  day  \\\n",
       "18909248  18909248  6.7762  3.0102        68   45007  4460929306   6.0  3.0   \n",
       "6954761    6954761  4.0223  8.7203        11  303844  5581742228   0.0  1.0   \n",
       "256006      256006  0.1626  3.3357       201  281717  2672645835  15.0  7.0   \n",
       "4824318    4824318  2.8897  0.2110        41   51231  5899723304  14.0  1.0   \n",
       "9734973    9734973  4.8039  4.0706         6  185085  1446642439  13.0  3.0   \n",
       "\n",
       "          month  \n",
       "18909248    0.0  \n",
       "6954761     0.0  \n",
       "256006      0.0  \n",
       "4824318     0.0  \n",
       "9734973     0.0  "
      ]
     },
     "execution_count": 548,
     "metadata": {},
     "output_type": "execute_result"
    }
   ],
   "source": [
    "\n",
    "# Add hours and day columns into data\n",
    "# From the notebook EDA we see that the unit of time is 'second'\n",
    "\n",
    "data['hour'] = (data.time/60) %24\n",
    "data['day'] = (data.time/(60*24)) %7\n",
    "data['month'] = ((data.time)/60*24*30) %12\n",
    "\n",
    "data.hour = data.hour.apply(lambda x: round(x))\n",
    "data.day = data.day.apply(lambda x: round(x))\n",
    "data.month = data.month.apply(lambda x: round(x))\n",
    "data.head()\n"
   ]
  },
  {
   "cell_type": "markdown",
   "metadata": {},
   "source": [
    "If we use the feature of 'hour', 'day' and 'month' directly, the accuracy will be even worse than 3%. The reason is that numbers have carinalit orders, while these features arer categorical data. To overcome this issue, we use one-hot-encoder."
   ]
  },
  {
   "cell_type": "code",
   "execution_count": 549,
   "metadata": {
    "collapsed": false
   },
   "outputs": [
    {
     "data": {
      "text/html": [
       "<div>\n",
       "<style>\n",
       "    .dataframe thead tr:only-child th {\n",
       "        text-align: right;\n",
       "    }\n",
       "\n",
       "    .dataframe thead th {\n",
       "        text-align: left;\n",
       "    }\n",
       "\n",
       "    .dataframe tbody tr th {\n",
       "        vertical-align: top;\n",
       "    }\n",
       "</style>\n",
       "<table border=\"1\" class=\"dataframe\">\n",
       "  <thead>\n",
       "    <tr style=\"text-align: right;\">\n",
       "      <th></th>\n",
       "      <th>row_id</th>\n",
       "      <th>x</th>\n",
       "      <th>y</th>\n",
       "      <th>accuracy</th>\n",
       "      <th>time</th>\n",
       "      <th>place_id</th>\n",
       "      <th>hour</th>\n",
       "      <th>day</th>\n",
       "      <th>month</th>\n",
       "      <th>0</th>\n",
       "      <th>...</th>\n",
       "      <th>25</th>\n",
       "      <th>26</th>\n",
       "      <th>27</th>\n",
       "      <th>28</th>\n",
       "      <th>29</th>\n",
       "      <th>30</th>\n",
       "      <th>31</th>\n",
       "      <th>32</th>\n",
       "      <th>33</th>\n",
       "      <th>34</th>\n",
       "    </tr>\n",
       "  </thead>\n",
       "  <tbody>\n",
       "    <tr>\n",
       "      <th>18909248</th>\n",
       "      <td>18909248</td>\n",
       "      <td>6.7762</td>\n",
       "      <td>3.0102</td>\n",
       "      <td>68</td>\n",
       "      <td>45007</td>\n",
       "      <td>4460929306</td>\n",
       "      <td>6.0</td>\n",
       "      <td>3.0</td>\n",
       "      <td>0.0</td>\n",
       "      <td>0.0</td>\n",
       "      <td>...</td>\n",
       "      <td>0.0</td>\n",
       "      <td>0.0</td>\n",
       "      <td>0.0</td>\n",
       "      <td>1.0</td>\n",
       "      <td>0.0</td>\n",
       "      <td>0.0</td>\n",
       "      <td>0.0</td>\n",
       "      <td>0.0</td>\n",
       "      <td>1.0</td>\n",
       "      <td>0.0</td>\n",
       "    </tr>\n",
       "    <tr>\n",
       "      <th>6954761</th>\n",
       "      <td>6954761</td>\n",
       "      <td>4.0223</td>\n",
       "      <td>8.7203</td>\n",
       "      <td>11</td>\n",
       "      <td>303844</td>\n",
       "      <td>5581742228</td>\n",
       "      <td>0.0</td>\n",
       "      <td>1.0</td>\n",
       "      <td>0.0</td>\n",
       "      <td>1.0</td>\n",
       "      <td>...</td>\n",
       "      <td>0.0</td>\n",
       "      <td>1.0</td>\n",
       "      <td>0.0</td>\n",
       "      <td>0.0</td>\n",
       "      <td>0.0</td>\n",
       "      <td>0.0</td>\n",
       "      <td>0.0</td>\n",
       "      <td>0.0</td>\n",
       "      <td>1.0</td>\n",
       "      <td>0.0</td>\n",
       "    </tr>\n",
       "    <tr>\n",
       "      <th>256006</th>\n",
       "      <td>256006</td>\n",
       "      <td>0.1626</td>\n",
       "      <td>3.3357</td>\n",
       "      <td>201</td>\n",
       "      <td>281717</td>\n",
       "      <td>2672645835</td>\n",
       "      <td>15.0</td>\n",
       "      <td>7.0</td>\n",
       "      <td>0.0</td>\n",
       "      <td>0.0</td>\n",
       "      <td>...</td>\n",
       "      <td>0.0</td>\n",
       "      <td>0.0</td>\n",
       "      <td>0.0</td>\n",
       "      <td>0.0</td>\n",
       "      <td>0.0</td>\n",
       "      <td>0.0</td>\n",
       "      <td>0.0</td>\n",
       "      <td>1.0</td>\n",
       "      <td>1.0</td>\n",
       "      <td>0.0</td>\n",
       "    </tr>\n",
       "  </tbody>\n",
       "</table>\n",
       "<p>3 rows × 44 columns</p>\n",
       "</div>"
      ],
      "text/plain": [
       "            row_id       x       y  accuracy    time    place_id  hour  day  \\\n",
       "18909248  18909248  6.7762  3.0102        68   45007  4460929306   6.0  3.0   \n",
       "6954761    6954761  4.0223  8.7203        11  303844  5581742228   0.0  1.0   \n",
       "256006      256006  0.1626  3.3357       201  281717  2672645835  15.0  7.0   \n",
       "\n",
       "          month    0 ...    25   26   27   28   29   30   31   32   33   34  \n",
       "18909248    0.0  0.0 ...   0.0  0.0  0.0  1.0  0.0  0.0  0.0  0.0  1.0  0.0  \n",
       "6954761     0.0  1.0 ...   0.0  1.0  0.0  0.0  0.0  0.0  0.0  0.0  1.0  0.0  \n",
       "256006      0.0  0.0 ...   0.0  0.0  0.0  0.0  0.0  0.0  0.0  1.0  1.0  0.0  \n",
       "\n",
       "[3 rows x 44 columns]"
      ]
     },
     "execution_count": 549,
     "metadata": {},
     "output_type": "execute_result"
    }
   ],
   "source": [
    "from sklearn.preprocessing import OneHotEncoder\n",
    "enc = OneHotEncoder()\n",
    "time = pd.DataFrame(enc.fit_transform(data[['hour','day','month']]).toarray(), index= data.index)\n",
    "data = pd.concat([data,time],axis = 1)\n",
    "data.head(3)"
   ]
  },
  {
   "cell_type": "code",
   "execution_count": 550,
   "metadata": {
    "collapsed": true
   },
   "outputs": [],
   "source": [
    "# Normalize  accuracy\n",
    "\n",
    "acc_mean = np.mean(data.accuracy)\n",
    "acc_std = np.std(data.accuracy)\n",
    "\n",
    "\n",
    "data.accuracy = data.accuracy.apply(lambda x: (x-acc_mean)/acc_std)"
   ]
  },
  {
   "cell_type": "code",
   "execution_count": 551,
   "metadata": {
    "collapsed": false
   },
   "outputs": [
    {
     "data": {
      "text/plain": [
       "(194601, 44)"
      ]
     },
     "execution_count": 551,
     "metadata": {},
     "output_type": "execute_result"
    }
   ],
   "source": [
    "# filter out place id with very few check ins\n",
    "count = data.groupby('place_id').count()\n",
    "filtered_place_id = count[count.row_id >3].index.tolist()\n",
    "filtered = data[(data.place_id.isin(filtered_place_id)) ]\n",
    "filtered.shape"
   ]
  },
  {
   "cell_type": "code",
   "execution_count": 552,
   "metadata": {
    "collapsed": false
   },
   "outputs": [
    {
     "data": {
      "text/plain": [
       "(130382, 37)"
      ]
     },
     "execution_count": 552,
     "metadata": {},
     "output_type": "execute_result"
    }
   ],
   "source": [
    "from sklearn.model_selection import train_test_split\n",
    "X_train, X_test, y_train, y_test = \\\n",
    "    train_test_split(filtered[['x','y']+range(35)], filtered['place_id'], test_size=0.33, random_state=1024)\n",
    "X_train.shape    "
   ]
  },
  {
   "cell_type": "markdown",
   "metadata": {},
   "source": [
    "As a benchmark, we run knn on all area"
   ]
  },
  {
   "cell_type": "code",
   "execution_count": 553,
   "metadata": {
    "collapsed": false
   },
   "outputs": [],
   "source": [
    "from sklearn.neighbors import KNeighborsClassifier\n",
    "import numpy as np\n",
    "import time\n",
    "\n",
    "# record [n_neighbors, accuracy, time spent]\n",
    "new_result = []\n",
    "\n",
    "nhds = [3]\n",
    "for k in nhds:\n",
    "    start = time.time()\n",
    "    knn = KNeighborsClassifier(n_neighbors= k)\n",
    "    model = knn.fit(X_train, y_train)\n",
    "    pred = model.predict(X_test)\n",
    "    done = time.time()\n",
    "    new_result.append([k, np.sum([pred == y_test])/float(len(pred)),done - start ])"
   ]
  },
  {
   "cell_type": "code",
   "execution_count": 554,
   "metadata": {
    "collapsed": false
   },
   "outputs": [
    {
     "data": {
      "text/plain": [
       "[[3, 0.020912813964714491, 88.61011600494385]]"
      ]
     },
     "execution_count": 554,
     "metadata": {},
     "output_type": "execute_result"
    }
   ],
   "source": [
    "new_result"
   ]
  },
  {
   "cell_type": "code",
   "execution_count": null,
   "metadata": {
    "collapsed": true
   },
   "outputs": [],
   "source": []
  },
  {
   "cell_type": "code",
   "execution_count": null,
   "metadata": {
    "collapsed": true
   },
   "outputs": [],
   "source": []
  },
  {
   "cell_type": "markdown",
   "metadata": {},
   "source": [
    "Now we change our strategy. Given a validation point, we first find out training points close to it on the map. Then we train KNN on these neighbor training points. To be efficient, we use \n",
    "Quadtree data structure to save the data points."
   ]
  },
  {
   "cell_type": "code",
   "execution_count": 555,
   "metadata": {
    "collapsed": false
   },
   "outputs": [
    {
     "name": "stdout",
     "output_type": "stream",
     "text": [
      "Total time spent 74\n"
     ]
    }
   ],
   "source": [
    "#(xmin, ymin, xmax, ymax) quadtree instance\n",
    "q_train =  Index(bbox=(-1, -1, 11, 11))\n",
    "\n",
    "\n",
    "# construct  quadTree for X_train and X_test\n",
    "\n",
    "import time\n",
    "start = time.time()\n",
    "\n",
    "# epison of neighbor\n",
    "e = 0.1\n",
    "\n",
    "for row in X_train.itertuples():\n",
    "    q_train.insert(row.Index, (row.x-e, row.y-e, row.x+e, row.y+e))\n",
    "\n",
    "#for row in X_test.itertuples():\n",
    "#    q_test.insert(row.Index, (row.x-e, row.y-e, row.x+e, row.y+e))\n",
    "done = time.time()\n",
    "print 'Total time spent %d' %(done-start)"
   ]
  },
  {
   "cell_type": "code",
   "execution_count": 556,
   "metadata": {
    "collapsed": false
   },
   "outputs": [
    {
     "data": {
      "text/html": [
       "<div>\n",
       "<style>\n",
       "    .dataframe thead tr:only-child th {\n",
       "        text-align: right;\n",
       "    }\n",
       "\n",
       "    .dataframe thead th {\n",
       "        text-align: left;\n",
       "    }\n",
       "\n",
       "    .dataframe tbody tr th {\n",
       "        vertical-align: top;\n",
       "    }\n",
       "</style>\n",
       "<table border=\"1\" class=\"dataframe\">\n",
       "  <thead>\n",
       "    <tr style=\"text-align: right;\">\n",
       "      <th></th>\n",
       "      <th>label</th>\n",
       "      <th>prediction</th>\n",
       "    </tr>\n",
       "  </thead>\n",
       "  <tbody>\n",
       "    <tr>\n",
       "      <th>10190674</th>\n",
       "      <td>7986235670</td>\n",
       "      <td>[]</td>\n",
       "    </tr>\n",
       "    <tr>\n",
       "      <th>11809242</th>\n",
       "      <td>3702031891</td>\n",
       "      <td>[]</td>\n",
       "    </tr>\n",
       "    <tr>\n",
       "      <th>17989285</th>\n",
       "      <td>3020259097</td>\n",
       "      <td>[]</td>\n",
       "    </tr>\n",
       "    <tr>\n",
       "      <th>16562206</th>\n",
       "      <td>2866492303</td>\n",
       "      <td>[]</td>\n",
       "    </tr>\n",
       "    <tr>\n",
       "      <th>28278988</th>\n",
       "      <td>9031150064</td>\n",
       "      <td>[]</td>\n",
       "    </tr>\n",
       "  </tbody>\n",
       "</table>\n",
       "</div>"
      ],
      "text/plain": [
       "               label prediction\n",
       "10190674  7986235670         []\n",
       "11809242  3702031891         []\n",
       "17989285  3020259097         []\n",
       "16562206  2866492303         []\n",
       "28278988  9031150064         []"
      ]
     },
     "execution_count": 556,
     "metadata": {},
     "output_type": "execute_result"
    }
   ],
   "source": [
    "# A data frame to save prediction result\n",
    "import numpy as np\n",
    "result = pd.DataFrame(columns=['label','prediction'])\n",
    "result['label'] = y_test\n",
    "result['prediction'] = np.empty((len(result),0)).tolist()\n",
    "result.head()"
   ]
  },
  {
   "cell_type": "code",
   "execution_count": 557,
   "metadata": {
    "collapsed": false
   },
   "outputs": [
    {
     "name": "stdout",
     "output_type": "stream",
     "text": [
      "Total time spent 995\n"
     ]
    }
   ],
   "source": [
    "# Run local KNN\n",
    "from sklearn.neighbors import KNeighborsClassifier\n",
    "\n",
    "start = time.time()\n",
    "e = 0.3\n",
    "\n",
    "for row in X_test.index:\n",
    "    x = X_test.loc[row].x\n",
    "    y = X_test.loc[row].y\n",
    "    box = (x-e,y-e,x+e,y+e)\n",
    "    \n",
    "    # training\n",
    "    train_row_id = q_train.intersect(box)\n",
    "    knn = KNeighborsClassifier(n_neighbors= 5)\n",
    "    model = knn.fit(X_train.loc[train_row_id], y_train.loc[train_row_id])\n",
    "    \n",
    "    #prediction\n",
    "    prediction = model.predict(X_test.loc[row].values.reshape(1,-1))\n",
    "    result.loc[row]['prediction'].append(prediction)\n",
    "done = time.time()\n",
    "print 'Total time spent %d' %(done-start)    "
   ]
  },
  {
   "cell_type": "code",
   "execution_count": null,
   "metadata": {
    "collapsed": true
   },
   "outputs": [],
   "source": []
  },
  {
   "cell_type": "code",
   "execution_count": null,
   "metadata": {
    "collapsed": true
   },
   "outputs": [],
   "source": []
  },
  {
   "cell_type": "code",
   "execution_count": 558,
   "metadata": {
    "collapsed": false
   },
   "outputs": [
    {
     "name": "stdout",
     "output_type": "stream",
     "text": [
      "The accuracy of QuadTree KNN: 0.096062\n"
     ]
    }
   ],
   "source": [
    "result['flat_pre'] = result.prediction.apply(lambda x: [item for sublist in x for item in sublist])\n",
    "\n",
    "def f(row):\n",
    "    return row['label'] in row['flat_pre']\n",
    "\n",
    "result['accuracy'] = result.apply(f, axis = 1)\n",
    "\n",
    "print 'The accuracy of QuadTree KNN: %f' %(np.sum(result.accuracy)/float(result.shape[0]))"
   ]
  },
  {
   "cell_type": "code",
   "execution_count": null,
   "metadata": {
    "collapsed": true
   },
   "outputs": [],
   "source": []
  },
  {
   "cell_type": "markdown",
   "metadata": {},
   "source": [
    "                 58000   116000   291180\n",
    "Number_labels     38071       57000    83345\n",
    "Plain KNN :       0.09     0.02   0.02 \n",
    "QuadTree  :       0.23     0.11   0.09 \n"
   ]
  },
  {
   "cell_type": "code",
   "execution_count": null,
   "metadata": {
    "collapsed": true
   },
   "outputs": [],
   "source": []
  }
 ],
 "metadata": {
  "kernelspec": {
   "display_name": "Python 2",
   "language": "python",
   "name": "python2"
  },
  "language_info": {
   "codemirror_mode": {
    "name": "ipython",
    "version": 2
   },
   "file_extension": ".py",
   "mimetype": "text/x-python",
   "name": "python",
   "nbconvert_exporter": "python",
   "pygments_lexer": "ipython2",
   "version": "2.7.13"
  }
 },
 "nbformat": 4,
 "nbformat_minor": 1
}
